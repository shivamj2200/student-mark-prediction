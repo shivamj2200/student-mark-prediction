{
 "cells": [
  {
   "cell_type": "code",
   "execution_count": 1,
   "id": "0edcb766",
   "metadata": {},
   "outputs": [],
   "source": [
    "#Testing of solution \n",
    "import joblib "
   ]
  },
  {
   "cell_type": "code",
   "execution_count": 2,
   "id": "f7215a79",
   "metadata": {},
   "outputs": [],
   "source": [
    "model=joblib.load('marks.pkl')"
   ]
  },
  {
   "cell_type": "code",
   "execution_count": 4,
   "id": "2d71f3e4",
   "metadata": {},
   "outputs": [
    {
     "data": {
      "text/plain": [
       "81.9"
      ]
     },
     "execution_count": 4,
     "metadata": {},
     "output_type": "execute_result"
    }
   ],
   "source": [
    "model.predict([[8]])[0][0].round(2)"
   ]
  },
  {
   "cell_type": "code",
   "execution_count": null,
   "id": "819382bd",
   "metadata": {},
   "outputs": [],
   "source": [
    "   "
   ]
  }
 ],
 "metadata": {
  "kernelspec": {
   "display_name": "Python 3",
   "language": "python",
   "name": "python3"
  },
  "language_info": {
   "codemirror_mode": {
    "name": "ipython",
    "version": 3
   },
   "file_extension": ".py",
   "mimetype": "text/x-python",
   "name": "python",
   "nbconvert_exporter": "python",
   "pygments_lexer": "ipython3",
   "version": "3.8.8"
  }
 },
 "nbformat": 4,
 "nbformat_minor": 5
}
